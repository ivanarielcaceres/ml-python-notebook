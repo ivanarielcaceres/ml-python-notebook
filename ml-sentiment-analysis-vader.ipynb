{
 "cells": [
  {
   "cell_type": "code",
   "execution_count": 9,
   "metadata": {
    "collapsed": false
   },
   "outputs": [],
   "source": [
    "from nltk.sentiment.vader import SentimentIntensityAnalyzer\n",
    "from translate import Translator\n",
    "from langdetect import detect\n",
    "import langid\n",
    "import textblob\n",
    "import requests\n",
    "import json "
   ]
  },
  {
   "cell_type": "code",
   "execution_count": 10,
   "metadata": {
    "collapsed": true
   },
   "outputs": [],
   "source": [
    "def langid_safe(tweet):\n",
    "    try:\n",
    "        return langid.classify(tweet)[0]\n",
    "    except Exception as e:\n",
    "        pass\n",
    "        \n",
    "def langdetect_safe(tweet):\n",
    "    try:\n",
    "        return detect(tweet)\n",
    "    except Exception as e:\n",
    "        pass\n",
    "\n",
    "def textblob_safe(tweet):\n",
    "    try:\n",
    "        return textblob.TextBlob(tweet).detect_language()\n",
    "    except Exception as e:\n",
    "        pass   "
   ]
  },
  {
   "cell_type": "code",
   "execution_count": 11,
   "metadata": {
    "collapsed": false
   },
   "outputs": [
    {
     "name": "stdout",
     "output_type": "stream",
     "text": [
      "[{'text': 'Este proyecto no me interesa', 'translated': 'This project does not interest me', 'language': 'es'}, {'text': 'Los gerentes están enterados de esta decisión?', 'translated': 'Are managers aware of this decision?', 'language': 'es'}, {'text': 'Es increíble como este proyecto va avanzando!!\\r\\n', 'translated': 'It is amazing how this project progresses!', 'language': 'es'}, {'text': 'A pesar de los avances que tuvo este proyecto, también deberíamos enfocarnos en las metodología para no atrasarnos en los entregables.', 'translated': 'Despite the advances that had this project, also we should focus on the methodology to not delay us in deliverables.', 'language': 'es'}, {'text': 'No veo ningún avance en este proyecto, al menos si hacemos referencia a la planificación inicial y las metas. No me interesa continuar', 'translated': \"I don't see no progress in this project, at least if we make reference to the initial planning and goals. I do not want to continue\", 'language': 'es'}, {'text': 'Este projecto foi sempre promissor, embora não está sendo atendida como planejado, vamos continuar tentando implementar na empresa. meninos forçar e não parar de tentar.', 'translated': \"This project was always promising, though not being met as planned, we will continue trying to implement in the company. boys forcing and don't stop trying.\", 'language': 'pt'}, {'text': 'Eu não posso esperar para terminar este projeto. Ele já está me dando dores de cabeça', 'translated': \"I can't wait to finish this project. He is already giving me headaches\", 'language': 'pt'}]\n"
     ]
    }
   ],
   "source": [
    "start = 1\n",
    "finish = 2\n",
    "comments = []\n",
    "for i in range(start, finish):    \n",
    "    try:\n",
    "        response = requests.get('http://chi621.itaipu/rest/api/latest/issue/ALM-166/comment', auth=('ivanc', 'ivan.caceres.147'))\n",
    "        content = response.json()\n",
    "        for comment in content['comments']:\n",
    "            body = comment['body']\n",
    "            language = langdetect_safe(body)\n",
    "            translator= Translator(to_lang=\"en\", from_lang=language)\n",
    "            translation = translator.translate(body)\n",
    "            comment = {\n",
    "             'text': body, \n",
    "             'translated': translation,\n",
    "             'language': language\n",
    "            }\n",
    "            comments.append(comment)\n",
    "    except:\n",
    "        pass\n",
    "print(comments)"
   ]
  },
  {
   "cell_type": "code",
   "execution_count": 12,
   "metadata": {
    "collapsed": false
   },
   "outputs": [
    {
     "name": "stdout",
     "output_type": "stream",
     "text": [
      "Este proyecto no me interesa------------------------------------- {'neg': 0.332, 'neu': 0.668, 'pos': 0.0, 'compound': -0.357}\n",
      "Los gerentes están enterados de esta decisión?------------------- {'neg': 0.0, 'neu': 1.0, 'pos': 0.0, 'compound': 0.0}\n",
      "Es increíble como este proyecto va avanzando!!\r\n",
      "----------------- {'neg': 0.0, 'neu': 0.595, 'pos': 0.405, 'compound': 0.6239}\n",
      "A pesar de los avances que tuvo este proyecto, también deberíamos enfocarnos en las metodología para no atrasarnos en los entregables. {'neg': 0.0, 'neu': 0.906, 'pos': 0.094, 'compound': 0.2411}\n",
      "No veo ningún avance en este proyecto, al menos si hacemos referencia a la planificación inicial y las metas. No me interesa continuar {'neg': 0.134, 'neu': 0.794, 'pos': 0.071, 'compound': -0.1695}\n",
      "Este projecto foi sempre promissor, embora não está sendo atendida como planejado, vamos continuar tentando implementar na empresa. meninos forçar e não parar de tentar. {'neg': 0.0, 'neu': 0.84, 'pos': 0.16, 'compound': 0.5556}\n",
      "Eu não posso esperar para terminar este projeto. Ele já está me dando dores de cabeça {'neg': 0.0, 'neu': 0.821, 'pos': 0.179, 'compound': 0.34}\n"
     ]
    }
   ],
   "source": [
    "analyzer = SentimentIntensityAnalyzer()\n",
    "for comment in comments:\n",
    "    text_translated = comment['translated']\n",
    "    text_original = comment['text']\n",
    "    language = comment['language']\n",
    "    #print('{0}: {1}'.format(text, language.upper()))\n",
    "    vs = analyzer.polarity_scores(text_translated)\n",
    "    print(\"{:-<65} {}\".format(text_original, str(vs)))"
   ]
  },
  {
   "cell_type": "code",
   "execution_count": null,
   "metadata": {
    "collapsed": true
   },
   "outputs": [],
   "source": []
  },
  {
   "cell_type": "code",
   "execution_count": null,
   "metadata": {
    "collapsed": true
   },
   "outputs": [],
   "source": []
  }
 ],
 "metadata": {
  "kernelspec": {
   "display_name": "Python 3",
   "language": "python",
   "name": "python3"
  },
  "language_info": {
   "codemirror_mode": {
    "name": "ipython",
    "version": 3
   },
   "file_extension": ".py",
   "mimetype": "text/x-python",
   "name": "python",
   "nbconvert_exporter": "python",
   "pygments_lexer": "ipython3",
   "version": "3.6.0"
  }
 },
 "nbformat": 4,
 "nbformat_minor": 2
}
