{
 "cells": [
  {
   "cell_type": "code",
   "execution_count": 234,
   "metadata": {
    "collapsed": false
   },
   "outputs": [],
   "source": [
    "from nltk.sentiment.vader import SentimentIntensityAnalyzer\n",
    "from translate import Translator\n",
    "from langdetect import detect\n",
    "import langid\n",
    "import textblob\n",
    "import requests\n",
    "import json "
   ]
  },
  {
   "cell_type": "code",
   "execution_count": 235,
   "metadata": {
    "collapsed": true
   },
   "outputs": [],
   "source": [
    "def langid_safe(tweet):\n",
    "    try:\n",
    "        return langid.classify(tweet)[0]\n",
    "    except Exception as e:\n",
    "        pass\n",
    "        \n",
    "def langdetect_safe(tweet):\n",
    "    try:\n",
    "        return detect(tweet)\n",
    "    except Exception as e:\n",
    "        pass\n",
    "\n",
    "def textblob_safe(tweet):\n",
    "    try:\n",
    "        return textblob.TextBlob(tweet).detect_language()\n",
    "    except Exception as e:\n",
    "        pass   "
   ]
  },
  {
   "cell_type": "code",
   "execution_count": null,
   "metadata": {
    "collapsed": false
   },
   "outputs": [],
   "source": [
    "start = 1\n",
    "finish = 100\n",
    "comments = []\n",
    "for i in range(start, finish):    \n",
    "    try:\n",
    "        response = requests.get('http://chi621.itaipu/rest/api/latest/issue/ALM-166/comment', auth=('ivanc', 'ivan.caceres.147'))\n",
    "        content = response.json()\n",
    "        for comment in content['comments']:\n",
    "            body = comment['body']\n",
    "            language = langdetect_safe(body)\n",
    "            translator= Translator(to_lang=\"en\", from_lang=language)\n",
    "            translation = translator.translate(body)\n",
    "            comment = {\n",
    "             'text': body, \n",
    "             'translated': translation,\n",
    "             'language': language\n",
    "            }\n",
    "            comments.append(comment)\n",
    "    except:\n",
    "        pass\n",
    "print(comments)"
   ]
  },
  {
   "cell_type": "code",
   "execution_count": 228,
   "metadata": {
    "collapsed": false
   },
   "outputs": [],
   "source": [
    "analyzer = SentimentIntensityAnalyzer()\n",
    "for comment in comments:\n",
    "    text_translated = comment['translated']\n",
    "    text_original = comment['text']\n",
    "    language = comment['language']\n",
    "    #print('{0}: {1}'.format(text, language.upper()))\n",
    "    vs = analyzer.polarity_scores(text_translated)\n",
    "    print(\"{:-<65} {}\".format(text_original, str(vs)))"
   ]
  },
  {
   "cell_type": "code",
   "execution_count": null,
   "metadata": {
    "collapsed": true
   },
   "outputs": [],
   "source": []
  },
  {
   "cell_type": "code",
   "execution_count": null,
   "metadata": {
    "collapsed": true
   },
   "outputs": [],
   "source": []
  }
 ],
 "metadata": {
  "kernelspec": {
   "display_name": "Python 3",
   "language": "python",
   "name": "python3"
  },
  "language_info": {
   "codemirror_mode": {
    "name": "ipython",
    "version": 3
   },
   "file_extension": ".py",
   "mimetype": "text/x-python",
   "name": "python",
   "nbconvert_exporter": "python",
   "pygments_lexer": "ipython3",
   "version": "3.6.0"
  }
 },
 "nbformat": 4,
 "nbformat_minor": 2
}
